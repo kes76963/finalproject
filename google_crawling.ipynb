{
 "cells": [
  {
   "cell_type": "code",
   "execution_count": 35,
   "source": [
    "#구글 검색 / 제목 밑에 내용만 \r\n",
    "from bs4 import BeautifulSoup\r\n",
    "\r\n",
    "headers = {\r\n",
    "    'User-agent':\r\n",
    "    \"Mozilla/5.0 (Windows NT 10.0; Win64; x64) AppleWebKit/537.36 (KHTML, like Gecko) Chrome/70.0.3538.102 Safari/537.36 Edge/18.19582\"\r\n",
    "}\r\n",
    "\r\n",
    "def get_googlesearch(company):\r\n",
    "  html = requests.get(f'https://www.google.com/search?q={company}', headers=headers).text\r\n",
    "  soup = BeautifulSoup(html, 'lxml')\r\n",
    "\r\n",
    "  text = soup.select('.IsZvec')\r\n",
    "  \r\n",
    "  for t in text :\r\n",
    "    print(t)\r\n",
    "  \r\n",
    "# get_googlesearch(company)\r\n",
    "\r\n"
   ],
   "outputs": [],
   "metadata": {}
  },
  {
   "cell_type": "code",
   "execution_count": null,
   "source": [
    "#전체 페이지 제목 / 내용 / 링크\r\n",
    "from bs4 import BeautifulSoup\r\n",
    "import requests\r\n",
    "import json\r\n",
    "\r\n",
    "headers = {\r\n",
    "    'User-agent':\r\n",
    "    \"Mozilla/5.0 (Windows NT 10.0; Win64; x64) AppleWebKit/537.36 (KHTML, like Gecko) Chrome/70.0.3538.102 Safari/537.36 Edge/18.19582\"\r\n",
    "}\r\n",
    "\r\n",
    "html = requests.get('https://www.google.com/search?q=서울우유',\r\n",
    "                    headers=headers).text\r\n",
    "\r\n",
    "soup = BeautifulSoup(html, 'lxml')\r\n",
    "\r\n",
    "summary = []\r\n",
    "\r\n",
    "for container in soup.findAll('div', class_='tF2Cxc'):\r\n",
    "  heading = container.find('h3', class_='LC20lb DKV0Md').text\r\n",
    "  article_summary = container.find('div', class_='IsZvec').text #='VwiC3b yXK7lf MUxGbd yDYNvb lyLwlc lEBKkf')\r\n",
    "  link = container.find('a')['href']\r\n",
    "\r\n",
    "  summary.append({\r\n",
    "      'Heading': heading,\r\n",
    "      'Article Summary': article_summary,\r\n",
    "      'Link': link,\r\n",
    "  })\r\n",
    "\r\n",
    "print(json.dumps(summary, indent=2, ensure_ascii=False))"
   ],
   "outputs": [
    {
     "output_type": "stream",
     "name": "stdout",
     "text": [
      "[\n",
      "  {\n",
      "    \"Heading\": \"서울우유-모바일\",\n",
      "    \"Article Summary\": \"서울우유가 체세포수 1등급까지 만족하는 두개의 1등급, 나 · “신바이오틱스”의 New 리더 · 강릉 바다의 감성을 담은 전문 바리스타의 프리미엄 커피.‎About서울우유 · ‎서울우유 가정배달 · ‎임원\",\n",
      "    \"Link\": \"https://www.seoulmilk.co.kr/\"\n",
      "  },\n",
      "  {\n",
      "    \"Heading\": \"제품소개 - 서울우유\",\n",
      "    \"Article Summary\": \"[ 서울우유 나100% 저지방우유 ]. 두개의 1등급으로 채운 나100%우유의 지방함유량을 줄여 라... facebook twitter. [ 고단백저지방 ]. 기존 우유보다 단백질과 칼슘을 ...\",\n",
      "    \"Link\": \"https://www.seoulmilk.co.kr/enterprise/product/product_list.sm\"\n",
      "  },\n",
      "  {\n",
      "    \"Heading\": \"서울우유협동조합 - 나무위키:대문\",\n",
      "    \"Article Summary\": \"서울우유의 제품들을 생산하고 있는 협동조합. 1937년 조선인/일본인 목장업자들이 경성부 정동 8번지 경성복심법원 근처에 경성우유동업조합으로 ...2021. 9. 13. · 업로더: 매일경제 에브리데이\",\n",
      "    \"Link\": \"https://namu.wiki/w/%EC%84%9C%EC%9A%B8%EC%9A%B0%EC%9C%A0%ED%98%91%EB%8F%99%EC%A1%B0%ED%95%A9?from=%EC%84%9C%EC%9A%B8%EC%9A%B0%EC%9C%A0\"\n",
      "  },\n",
      "  {\n",
      "    \"Heading\": \"나100샵 - 서울우유 공식 쇼핑몰\",\n",
      "    \"Article Summary\": \"서울우유 공식 온라인 쇼핑몰, 멸균우유, 유제품, 커피, 100%우리농산물, 생활용품 판매.\",\n",
      "    \"Link\": \"https://www.na100shop.com/\"\n",
      "  },\n",
      "  {\n",
      "    \"Heading\": \"서울우유 선물세트 - 나100샵\",\n",
      "    \"Article Summary\": \"서울우유 공식 온라인 쇼핑몰, 멸균우유, 유제품, 커피, 100%우리농산물, 생활용품 판매.\",\n",
      "    \"Link\": \"https://www.na100shop.com:433/goodsPlusList.do?c1=281&c2=286\"\n",
      "  },\n",
      "  {\n",
      "    \"Heading\": \"서울우유 - 쿠팡!\",\n",
      "    \"Article Summary\": \"쿠팡은 로켓배송 - 서울우유에 대한 검색결과입니다. 서울우유 1000ml, 우유, 서울우유 2300ml, 서울우유 200ml, 계란, 매일우유, 두부, 멸균우유, 식빵, 바나나,\",\n",
      "    \"Link\": \"https://www.coupang.com/np/search?q=%EC%84%9C%EC%9A%B8%EC%9A%B0%EC%9C%A0&channel=relate\"\n",
      "  },\n",
      "  {\n",
      "    \"Heading\": \"서울우유 : 롯데마트\",\n",
      "    \"Article Summary\": \"서울우유생크림 · 서울우유플레인요거트 · 서울우유아이스크림 · 서울우유요거트 · 서울우유치즈육포 · 서울우유버터 · 서울우유더진한 · 서울 · 티네 · 쵸코우유 ...\",\n",
      "    \"Link\": \"https://www.lotteon.com/search/search/search.ecn?render=search&platform=m&mallId=4&q=%EC%84%9C%EC%9A%B8%EC%9A%B0%EC%9C%A0\"\n",
      "  },\n",
      "  {\n",
      "    \"Heading\": \"[서울우유] 나 100% 우유 1000ml - 마켓컬리 :: 내일의 장보기 ...\",\n",
      "    \"Article Summary\": \"서울우유의 역사는 곧 우리나라 우유의 역사이기도 하죠. 1937년 서울 정동에 우리나라 최초의 우유 공장을 지은 것이 지금의 서울우유가 되었다고 해요.\",\n",
      "    \"Link\": \"https://www.kurly.com/m2/goods/view.php?=&goodsno=44571\"\n",
      "  },\n",
      "  {\n",
      "    \"Heading\": \"서울우유협동조합 - 위키백과, 우리 모두의 백과사전\",\n",
      "    \"Article Summary\": \"서울우유협동조합(서울牛乳協同組合)은 유제품을 생산하는 대한민국의 협동조합이다. 목차. 1 보유 상표; 2 주요 제품; 3 조합 운영. 3.1 조합원; 3.2 공장 및 연구소.\",\n",
      "    \"Link\": \"https://ko.wikipedia.org/wiki/%EC%84%9C%EC%9A%B8%EC%9A%B0%EC%9C%A0%ED%98%91%EB%8F%99%EC%A1%B0%ED%95%A9\"\n",
      "  }\n",
      "]\n"
     ]
    }
   ],
   "metadata": {}
  },
  {
   "cell_type": "code",
   "execution_count": null,
   "source": [
    "# 전체 긁어오기\r\n",
    "from bs4 import BeautifulSoup\r\n",
    "import requests\r\n",
    "\r\n",
    "keyWord = '퍼니싱 그레이 레이븐'\r\n",
    "\r\n",
    "url = f'https://www.google.com/search?hl=en&q={keyWord}'\r\n",
    "headers = {'User-Agent': 'Mozilla/5.0 (X11; Ubuntu; Linux x86_64; rv:77.0) Gecko/20100101 Firefox/77.0'}\r\n",
    "\r\n",
    "src = requests.get(url, headers=headers).text\r\n",
    "soup = BeautifulSoup(src, 'lxml')\r\n",
    "\r\n",
    "containers = soup.findAll('div', class_='g')\r\n",
    "\r\n",
    "for c in containers:\r\n",
    "    print(c.get_text(strip=True, separator=' '))\r\n",
    "    print('')"
   ],
   "outputs": [
    {
     "output_type": "stream",
     "name": "stdout",
     "text": [
      "Web results 퍼니싱 그레이 레이븐 - 나무위키:대문 https://namu.wiki › 퍼니싱 그레이 레이븐 https://namu.wiki › 퍼니싱 그레이 레이븐 2020년 11월 한국서버 확정 기사가 떴고, 2021년 4월경 공식 카페와 유튜브 채널, 공식 사이트가 개설되었다. ... 2021년 5월 21일부터 CBT 테스트를 진행했었다. 2021년 6월 ... Jul 17, 2021 · Uploaded by 퍼니싱:그레이 레이븐 ‎ 논란 및 사건 사고 · ‎ 구조체 · ‎ 카무 · ‎ 분류\n",
      "\n",
      "퍼니싱:그레이 레이븐 공식 홈페이지 https://grayraven.kr https://grayraven.kr 세기말 3D 액션 RPG : < 퍼니싱 : 그레이 레이븐 >, 그레이 레이븐 소대와 함께 지구 탈환 작전에 참여해주세요! ‎ Painting · ‎ 개인정보처리방침 · ‎ [이벤트] 2021-04-19 CBT-1... · ‎ 선택해 주십시오\n",
      "\n",
      "퍼니싱:그레이 레이븐 - Google Play 앱 https://play.google.com › store › apps › details › id=co... https://play.google.com › store › apps › details › id=co... 퍼니싱 : 그레이 레이븐 '! 지휘관이 되어 인류의 마지막 희망인 '구조체'를 이끌고 ' 퍼니싱 ' 침식체에 맞서 지구로 돌아가는 여정을 떠나세요! Rating: 4 · ‎ 13,547 votes · ‎ Free · ‎ Android · ‎ Game\n",
      "\n",
      "퍼니싱 그레이 레이븐 갤러리입니다. - 디시인사이드 https://m.dcinside.com › board › grayraven https://m.dcinside.com › board › grayraven 퍼니싱 그레이 레이븐 , grayraven community portal dcinside.\n",
      "\n",
      "퍼니싱:그레이 레이븐 - YouTube https://www.youtube.com › channel https://www.youtube.com › channel 세기말 3D 액션 RPG ' 퍼니싱 : 그레이 레이븐 '! 지휘관이 되어 인류의 마지막 희망인 '구조체'를 이끌고 ' 퍼니싱 ' 감염체에 맞서 지구로 돌아가는 여정을 떠나세요!\n",
      "\n",
      "Web results 퍼니싱 그레이 레이븐의 게임성과 운영.txt - 아카라이브 https://arca.live › punigray https://arca.live › punigray 퍼니싱 그레이 레이븐 의 게임성과 운영.txt. 373. 추천 3 비추천 1 댓글 12 조회수 17482 작성일 2020-10-24 04:45:37 수정일 2021-08-07 23:06:13.\n",
      "\n",
      "퍼니싱 그레이 레이븐 사전예약 및 출시일 - G11 https://canfactory.tistory.com › ... https://canfactory.tistory.com › ... 유니티5 엔진으로 만들어진 퍼니싱 그레이 레이븐 은 3D 액션 요소는 물론 미소녀 모바일 게임으로 한국에서도 큰 인기를 얻을 것으로 예상됩니다. 5월 12 ... Jun 19, 2021 · Uploaded by 퍼니싱:그레이 레이븐\n",
      "\n",
      "퍼니싱: 그레이 레이븐 - 위키백과, 우리 모두의 백과사전 https://ko.wikipedia.org › wiki › 퍼니싱:_그레이_레이븐 https://ko.wikipedia.org › wiki › 퍼니싱:_그레이_레이븐 퍼니싱 : 그레이 레이븐 (중국어: 战双帕弥什, 일본어: パニシング：グレイレイヴン)은 쿠로 게임이 개발한 모바일 액션 롤플레잉 게임이다. 2019년 12월 5일 중국에서 ... 출시일: 중국 : 2019년 12월 5일; 홍콩/마카오/대만: ...‎\n",
      "\n"
     ]
    }
   ],
   "metadata": {}
  },
  {
   "cell_type": "code",
   "execution_count": 36,
   "source": [
    "import pandas as pd\r\n",
    "\r\n",
    "google = pd.read_csv('company_and_copy3.csv')\r\n",
    "google.info()"
   ],
   "outputs": [
    {
     "output_type": "stream",
     "name": "stdout",
     "text": [
      "<class 'pandas.core.frame.DataFrame'>\n",
      "RangeIndex: 407 entries, 0 to 406\n",
      "Data columns (total 3 columns):\n",
      " #   Column    Non-Null Count  Dtype \n",
      "---  ------    --------------  ----- \n",
      " 0   company   407 non-null    object\n",
      " 1   copy      407 non-null    object\n",
      " 2   category  407 non-null    object\n",
      "dtypes: object(3)\n",
      "memory usage: 9.7+ KB\n"
     ]
    }
   ],
   "metadata": {}
  },
  {
   "cell_type": "code",
   "execution_count": 39,
   "source": [
    "extends = []\r\n",
    "count = 0\r\n",
    "for c in google.company :\r\n",
    "    url = f'https://search.naver.com/search.naver?where=news&sm=tab_jum&query={c}'\r\n",
    "    req = requests.get(url)\r\n",
    "    html = req.content\r\n",
    "    soup = BeautifulSoup(html,'lxml')\r\n",
    "    try: \r\n",
    "        title = soup.select_one('a.api_txt_lines.dsc_txt_wrap').text\r\n",
    "        extends.append(title)\r\n",
    "    except :\r\n",
    "        extends.append('nan')\r\n",
    "    count += 1\r\n",
    "if count % 100 == 0 :\r\n",
    "    print('.',end='')\r\n",
    "print('완료')   "
   ],
   "outputs": [
    {
     "output_type": "stream",
     "name": "stdout",
     "text": [
      "완료\n"
     ]
    }
   ],
   "metadata": {}
  },
  {
   "cell_type": "code",
   "execution_count": 43,
   "source": [
    "print(len(extends))\r\n",
    "google['extend'] = extends\r\n",
    "google.info()"
   ],
   "outputs": [
    {
     "output_type": "stream",
     "name": "stdout",
     "text": [
      "407\n",
      "<class 'pandas.core.frame.DataFrame'>\n",
      "RangeIndex: 407 entries, 0 to 406\n",
      "Data columns (total 4 columns):\n",
      " #   Column    Non-Null Count  Dtype \n",
      "---  ------    --------------  ----- \n",
      " 0   company   407 non-null    object\n",
      " 1   copy      407 non-null    object\n",
      " 2   category  407 non-null    object\n",
      " 3   extend    407 non-null    object\n",
      "dtypes: object(4)\n",
      "memory usage: 12.8+ KB\n"
     ]
    }
   ],
   "metadata": {}
  },
  {
   "cell_type": "code",
   "execution_count": null,
   "source": [
    "google.to_csv('info_naver.csv',index = None, encoding='utf-8-sig')"
   ],
   "outputs": [],
   "metadata": {}
  }
 ],
 "metadata": {
  "orig_nbformat": 4,
  "language_info": {
   "name": "python",
   "version": "3.7.10",
   "mimetype": "text/x-python",
   "codemirror_mode": {
    "name": "ipython",
    "version": 3
   },
   "pygments_lexer": "ipython3",
   "nbconvert_exporter": "python",
   "file_extension": ".py"
  },
  "kernelspec": {
   "name": "python3",
   "display_name": "Python 3.7.10 64-bit ('exam_cv2': conda)"
  },
  "interpreter": {
   "hash": "19a2027c367e4a8fbf50703f7b521df71edff403eb9eba2200ef5f1febf03a5b"
  }
 },
 "nbformat": 4,
 "nbformat_minor": 2
}