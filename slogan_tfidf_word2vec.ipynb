{
 "cells": [
  {
   "cell_type": "code",
   "execution_count": 9,
   "source": [
    "import requests\r\n",
    "import json\r\n",
    "\r\n",
    "\r\n",
    "r = requests.post(\r\n",
    "    'https://train-8dgtlge21881yafjrqb4-gpt2-train-teachable-ainize.endpoint.ainize.ai/predictions/gpt-2-ko-small-finetune', #슬로건 , 없는 정제된 5에포크\r\n",
    "    headers = {'Content-Type' : 'application/json'\r\n",
    "               },\r\n",
    "    data=json.dumps({\r\n",
    "  \"text\": \"패션 의류,\",\r\n",
    "  \"num_samples\": 100,\r\n",
    "  \"length\": 20\r\n",
    "    }))\r\n",
    "\r\n",
    "slogan_list = []\r\n",
    "#print(r.json())\r\n",
    "for slogan in r.json():\r\n",
    "  # print('='*10)\r\n",
    "  # print(slogan)\r\n",
    "    slogan = slogan.split('\\n')[0]\r\n",
    "    slogan = slogan.split(',')[1:]\r\n",
    "    slogan = ', '.join(slogan)\r\n",
    "    if slogan :\r\n",
    "      slogan_list.append(slogan)\r\n",
    "    print(slogan) # 결과 같이 나오게 했으면 좋겠다 싶을 때 print(slogan, end=' / ')"
   ],
   "outputs": [
    {
     "output_type": "stream",
     "name": "stdout",
     "text": [
      "DUP DIGITAL EURCON\n",
      "TO NEXT SHINT YOUR YEAR H\n",
      "당신에게 가장 가까운 건,  그 무엇도 타지 않는다\n",
      "새로운 스타일을 만나다\n",
      "오브제만의 편안함\n",
      "THE DEEP BLACK\n",
      "스타일리쉬하게,  스타일리시하게\n",
      "세상에서 가장 완벽한 스타일링은 샴핑이다\n",
      "가까이서 즐겨도 될 때,  패션을 보면 된다\n",
      "DIGITALE CHANGE\n",
      "Move Your Life\n",
      "새로운 의전\n",
      "시크하게,  핏하게\n",
      "오래 기다렸던 멋진 순간\n",
      "오래도록 아름답다\n",
      "Play Wear,  Worry Way\n",
      "스타일에 따라 달라지다\n",
      "우리 모두의 스타일을 바꿉니다\n",
      "여자의 모든 것을 완성하다\n",
      "Beauty JOY PRESSION\n",
      "MDRTMORYS\n",
      "스타일리스트,  스몰비즈 스타일리스트\n",
      "BEAUTY MAGIC,  FIND\n",
      "Believe your luxury\n",
      "나만의 스타일로 선택하다\n",
      "아직 경험해보지 못한 스타일\n",
      "We are your super style\n",
      "다시,  쉐이크\n",
      "Expendent Your Life\n",
      "STAYSHING SUV\n",
      "당신의 패션을 지킵니다\n",
      "THE A GONYLE\n",
      "세상을 가벼이\n",
      "오늘도 봄을 즐겨봐\n",
      "우리의 내일\n",
      "Break in Take in Your Hotel\n",
      "Performance Fit Wear To Summit\n",
      "가벼운 순간에도 가벼워지는\n",
      "세상의 모든 것을 경험하다\n",
      "MADE OF LOVE\n",
      "당신의 여름이 시작되죠\n",
      "FIT YOUR HEROME\n",
      "스타일은 스타일이다\n",
      "FUN,  SUPER YOUR TO ME\n",
      "우리의 패션이 세계를 놀라게 할 만한\n",
      "가족을 응원할 땐\n",
      "내 마음에 드는 것을 입다\n",
      "ONE BEAUTY LUXTH\n",
      "DO GET SIME,  DOGET TO ME\n",
      "SMART OF YOUR LIFE\n",
      "BEAM FESTROW\n",
      "DOGITAL BEAUTY TO\n",
      "DE VERY MORE AND TO CHANGE\n",
      "우리 모두의 선택\n",
      "스타일은 스타일이다\n",
      "Sweet Sports on more\n",
      "이탈리아풍 라커에 클래식함이 더해지다\n",
      "가장 나다운 스타일링\n",
      "For the WEARM\n",
      "오래도록 당신 곁에 있어줘\n",
      "FUNLING LIKE FUNGE\n",
      "PERFULL COMENTURE\n",
      "On the luxury\n",
      "오늘 하루도 행복하자\n",
      "World pick in choice\n",
      "스타일리스트 젝스키스에서 SURPINK\n",
      "새로운 스타일의 시작\n",
      "YOUR LIFE\n",
      "여자들이 여름이 기다려질 때\n",
      "아름다운 아름다움의 시작\n",
      "My Dynamic\n",
      "스타일의 차이가 패션을 바꿀 수 있나요?\n",
      "Beyond for your Wears\n",
      "당신의 모든 순간에는 패션이 있습니다\n",
      "ONE TO MUSEHAR,  SPECIAL SYL\n",
      "Live my music healthy\n",
      "FREE MOVE\n",
      "나이,  나로,  넌. 너에게\n",
      "Renewhere\n",
      "당신의 감성을 살리는 패션\n",
      "ONN YOUR NEW WITHEST\n",
      "옷감부터 생각의 기분,  옷맵시가 되다\n",
      "TIME BEE THE OF MILIN\n",
      "FLAM GOTS\n",
      "SUPER SIGNATURE FILL GET\n",
      "여자들의 마음을 사로잡다\n",
      "새로운 시대의 패션을 만듭니다\n",
      "Believe,  Enabler\n",
      "BEMAN CHARM STYLE\n",
      "다시,  다시,  함께\n",
      "가볍게\n",
      "YOUR NEXTER SULT\n",
      "FORN DRIVE LOVER\n",
      "오늘의 컬렉션은 내일의 스타일을 완성하는 스타일링\n",
      "SMART FORESSION LUCK\n",
      "DIGITAL IN CHANGE\n",
      "스스로를 빛내는 넌버벌 퍼포먼스\n",
      "REALS A NEW SANGE\n",
      "새로운 스타일의 시작\n",
      "옷이 다르니까\n"
     ]
    }
   ],
   "metadata": {}
  },
  {
   "cell_type": "code",
   "execution_count": 10,
   "source": [
    "from konlpy.tag import Kkma\r\n",
    "\r\n",
    "slogan_list2 = []\r\n",
    "for slogan in slogan_list :\r\n",
    "    kkma = Kkma()\r\n",
    "    slogan_ = kkma.nouns(slogan)\r\n",
    "    slogan_list2.append(slogan_)\r\n",
    "    \r\n",
    "print('완료')"
   ],
   "outputs": [
    {
     "output_type": "stream",
     "name": "stdout",
     "text": [
      "완료\n"
     ]
    }
   ],
   "metadata": {}
  },
  {
   "cell_type": "code",
   "execution_count": 11,
   "source": [
    "# 가장 많이 나오는 단어 체크\r\n",
    "import collections \r\n",
    "\r\n",
    "#중첩 리스트 제거 / https://blog.winterjung.dev/2017/04/21/list-of-lists-to-flatten\r\n",
    "list_removed = sum(slogan_list2, []) \r\n",
    "\r\n",
    "#단어 카운팅\r\n",
    "dict={} \r\n",
    "dict=collections.Counter(list_removed) \r\n",
    "dict = sorted(dict.items(), key=lambda x: x[1], reverse=True)\r\n",
    "#print(dict)\r\n",
    "keyword = next(iter(dict))[0] #사전 첫번째 단어\r\n",
    "print(keyword)"
   ],
   "outputs": [
    {
     "output_type": "stream",
     "name": "stdout",
     "text": [
      "스타일\n"
     ]
    }
   ],
   "metadata": {}
  },
  {
   "cell_type": "code",
   "execution_count": 19,
   "source": [
    "# word2vec\r\n",
    "from gensim.models import Word2Vec\r\n",
    "\r\n",
    "model = Word2Vec(slogan_list2, vector_size=100, window=4,\r\n",
    "                           min_count=2, workers=4, epochs=50, sg=1) \r\n",
    "print('완료')"
   ],
   "outputs": [
    {
     "output_type": "stream",
     "name": "stdout",
     "text": [
      "완료\n"
     ]
    }
   ],
   "metadata": {}
  },
  {
   "cell_type": "code",
   "execution_count": 18,
   "source": [
    "#가장 많이 나오는 단어와 유사한 단어\r\n",
    "model.wv.most_similar(keyword,topn=10)"
   ],
   "outputs": [
    {
     "output_type": "execute_result",
     "data": {
      "text/plain": [
       "[('스타일링', 0.21617144346237183),\n",
       " ('여자', 0.09291724115610123),\n",
       " ('세상', 0.06285081058740616),\n",
       " ('순간', 0.027052780613303185),\n",
       " ('오늘', 0.0161347147077322),\n",
       " ('패션', -0.010834809392690659),\n",
       " ('시작', -0.0277516208589077),\n",
       " ('당신', -0.05235734209418297),\n",
       " ('우리', -0.059876278042793274),\n",
       " ('새', -0.11167103797197342)]"
      ]
     },
     "metadata": {},
     "execution_count": 18
    }
   ],
   "metadata": {}
  }
 ],
 "metadata": {
  "orig_nbformat": 4,
  "language_info": {
   "name": "python",
   "version": "3.7.10",
   "mimetype": "text/x-python",
   "codemirror_mode": {
    "name": "ipython",
    "version": 3
   },
   "pygments_lexer": "ipython3",
   "nbconvert_exporter": "python",
   "file_extension": ".py"
  },
  "kernelspec": {
   "name": "python3",
   "display_name": "Python 3.7.10 64-bit ('exam_cv2': conda)"
  },
  "interpreter": {
   "hash": "19a2027c367e4a8fbf50703f7b521df71edff403eb9eba2200ef5f1febf03a5b"
  }
 },
 "nbformat": 4,
 "nbformat_minor": 2
}